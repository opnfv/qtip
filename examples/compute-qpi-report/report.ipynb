{
 "cells": [
  {
   "cell_type": "code",
   "execution_count": 1,
   "metadata": {
    "scrolled": true
   },
   "outputs": [
    {
     "data": {
      "image/png": "[encoded data removed]",
      "text/plain": [
       "<matplotlib.figure.Figure at 0x7f5982b410d0>"
      ]
     },
     "metadata": {},
     "output_type": "display_data"
    }
   ],
   "source": [
    "import matplotlib.pyplot as plt\n",
    "from asq.initiators import query\n",
    "import json\n",
    "\n",
    "workload_name = []\n",
    "workload_score = []\n",
    "project_name = 'workspace'\n",
    "\n",
    "with open(\"qpi.json\".format(project_name)) as result:\n",
    "    final = json.load(result)\n",
    "\n",
    "qpi = query(final['nodes']).where(lambda child: child['name'] == 'node-9') \\\n",
    "        .select_many(lambda child: child['sections']) \\\n",
    "        .where(lambda child: child['name'] == 'SSL') \\\n",
    "        .select_many(lambda child: child['metrics']).to_list()\n",
    "\n",
    "for wl in qpi[0]['workloads']:\n",
    "    workload_name.append(wl['name'])\n",
    "    workload_score.append(wl['score'])\n",
    "\n",
    "x_axis = range(len(workload_name))\n",
    "\n",
    "plt.bar(x_axis, workload_score)\n",
    "plt.xticks(x_axis, workload_name)\n",
    "plt.show()"
   ]
  }
 ],
 "metadata": {
  "kernelspec": {
   "display_name": "Python 2",
   "language": "python",
   "name": "python2"
  },
  "language_info": {
   "codemirror_mode": {
    "name": "ipython",
    "version": 2
   },
   "file_extension": ".py",
   "mimetype": "text/x-python",
   "name": "python",
   "nbconvert_exporter": "python",
   "pygments_lexer": "ipython2",
   "version": "2.7.12"
  }
 },
 "nbformat": 4,
 "nbformat_minor": 1
}
